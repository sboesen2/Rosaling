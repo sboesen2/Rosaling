{
 "cells": [
  {
   "cell_type": "code",
   "execution_count": 1,
   "id": "d8db7068",
   "metadata": {},
   "outputs": [],
   "source": [
    "# Problem\n",
    "# An RNA string is a string formed from the alphabet containing 'A', 'C', 'G', and 'U'.\n",
    "\n",
    "# Given a DNA string t\n",
    "#  corresponding to a coding strand, its transcribed RNA string u\n",
    "#  is formed by replacing all occurrences of 'T' in t\n",
    "#  with 'U' in u\n",
    "# .\n",
    "\n",
    "# Given: A DNA string t\n",
    "#  having length at most 1000 nt.\n",
    "\n",
    "# Return: The transcribed RNA string of t\n",
    "\n"
   ]
  },
  {
   "cell_type": "markdown",
   "id": "eeb1df7e",
   "metadata": {},
   "source": [
    "## Strategy \n",
    "- use python replace method\n",
    "- s.replace(old,new,current count (optional))\n",
    "- old = T\n",
    "- new = U"
   ]
  },
  {
   "cell_type": "code",
   "execution_count": 5,
   "id": "e31460b9",
   "metadata": {},
   "outputs": [
    {
     "name": "stdout",
     "output_type": "stream",
     "text": [
      "GACCAUGUUCAACGCGUGUCGGGAAGCUGGUUAGCUCUUCCCGGCACAUUCAUGAUUGUUAUUUACUCUUAAGUCGUACUACGUGUACCCUAAACGUCGCGUAGCUAGCUGCUAUGGAACCCUCCGCAGUUAUCAACUGAAACACGACAUAACGUGUGAUUAGGUGGUGCGUAUGGUCUAUGUAGAAUGGCGACUGCCCUAUACCAAAUGAAAUAAGCCCACUCACAGUAUCCUGACAGGUGAGGACGGAGUCUGUCAACGCAUAUGUAGUACUUACGCGGCUGAUGCGUUCCUAUUUAUCAGUCAGUGUAGUCGCCACAUCUCGCAAUCUCGCGAUCGGAGCCCGCUCUGCUCUAGGACAUGUUCGUACGACGACAAGACGUAUCAUAGCCUUCUUGCGAUCUGCGGGACACGCCAGACUUUUCGACGCCAGAUCUGGUAUUAAAGUCAGAUAGGCAGAGGACGUUGGCUUGUCGCCCAUCGUCGAGCUUAGGCCUCCCUUAGAGGUACCCUCGGUGCCAGACGAAGAUAGUGGUAGUACCUCAACUGACGGGCUUAACCCGCAGGAUGAAACAUGUCGGGGGCUGCAUACAAUAAGAGUUCCGGAGAGUACAUAUCCAAACCAUAUUCUACAUACUCAUCCACGAUUAAGCGCACCCACAGGGUGGAACUGCCACGGUUCGAGACCCCUGCAUCGGUCUUAGGGCGGUCUCGUUCUAAUAGUCACAUGUGGGUAACUAAAUGGGGAGGGAUAACCUCGGUAGUCUUUAAGACUCGUCUGGAGAGGGUUCACACCAAAAAGACCUAGGGGUCUAGUGGAGGCAUUAGUUGCUCGCGUGUAUGAACUGUCGAUUGUAAUAAAUCCUGUGCAGACGGGGUUGGUAAGGCACUCUAGCCGGCCGAUUAUAGAUUGAGAACGUAUUCUGUCACGCUUUCUUUUGUGGCUUACCAAGUCUUCUUAAUUAGUCACUGCA\n"
     ]
    }
   ],
   "source": [
    "dna_string = 'GACCATGTTCAACGCGTGTCGGGAAGCTGGTTAGCTCTTCCCGGCACATTCATGATTGTTATTTACTCTTAAGTCGTACTACGTGTACCCTAAACGTCGCGTAGCTAGCTGCTATGGAACCCTCCGCAGTTATCAACTGAAACACGACATAACGTGTGATTAGGTGGTGCGTATGGTCTATGTAGAATGGCGACTGCCCTATACCAAATGAAATAAGCCCACTCACAGTATCCTGACAGGTGAGGACGGAGTCTGTCAACGCATATGTAGTACTTACGCGGCTGATGCGTTCCTATTTATCAGTCAGTGTAGTCGCCACATCTCGCAATCTCGCGATCGGAGCCCGCTCTGCTCTAGGACATGTTCGTACGACGACAAGACGTATCATAGCCTTCTTGCGATCTGCGGGACACGCCAGACTTTTCGACGCCAGATCTGGTATTAAAGTCAGATAGGCAGAGGACGTTGGCTTGTCGCCCATCGTCGAGCTTAGGCCTCCCTTAGAGGTACCCTCGGTGCCAGACGAAGATAGTGGTAGTACCTCAACTGACGGGCTTAACCCGCAGGATGAAACATGTCGGGGGCTGCATACAATAAGAGTTCCGGAGAGTACATATCCAAACCATATTCTACATACTCATCCACGATTAAGCGCACCCACAGGGTGGAACTGCCACGGTTCGAGACCCCTGCATCGGTCTTAGGGCGGTCTCGTTCTAATAGTCACATGTGGGTAACTAAATGGGGAGGGATAACCTCGGTAGTCTTTAAGACTCGTCTGGAGAGGGTTCACACCAAAAAGACCTAGGGGTCTAGTGGAGGCATTAGTTGCTCGCGTGTATGAACTGTCGATTGTAATAAATCCTGTGCAGACGGGGTTGGTAAGGCACTCTAGCCGGCCGATTATAGATTGAGAACGTATTCTGTCACGCTTTCTTTTGTGGCTTACCAAGTCTTCTTAATTAGTCACTGCA'\n",
    "\n",
    "\n",
    "rna_string = dna_string.replace('T','U')\n",
    "\n",
    "\n",
    "print(rna_string)\n",
    "\n"
   ]
  },
  {
   "cell_type": "code",
   "execution_count": 3,
   "id": "341e9a1f",
   "metadata": {},
   "outputs": [],
   "source": []
  },
  {
   "cell_type": "code",
   "execution_count": null,
   "id": "550c0177",
   "metadata": {},
   "outputs": [],
   "source": []
  },
  {
   "cell_type": "code",
   "execution_count": null,
   "id": "b16cf22e",
   "metadata": {},
   "outputs": [],
   "source": []
  },
  {
   "cell_type": "code",
   "execution_count": null,
   "id": "01d1199a",
   "metadata": {},
   "outputs": [],
   "source": []
  },
  {
   "cell_type": "code",
   "execution_count": null,
   "id": "6b1f8f26",
   "metadata": {},
   "outputs": [],
   "source": []
  }
 ],
 "metadata": {
  "kernelspec": {
   "display_name": "Python 3 (ipykernel)",
   "language": "python",
   "name": "python3"
  },
  "language_info": {
   "codemirror_mode": {
    "name": "ipython",
    "version": 3
   },
   "file_extension": ".py",
   "mimetype": "text/x-python",
   "name": "python",
   "nbconvert_exporter": "python",
   "pygments_lexer": "ipython3",
   "version": "3.11.7"
  }
 },
 "nbformat": 4,
 "nbformat_minor": 5
}
