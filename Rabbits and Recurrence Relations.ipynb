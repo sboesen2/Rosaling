{
 "cells": [
  {
   "cell_type": "markdown",
   "id": "61e4abe3",
   "metadata": {},
   "source": [
    "## Wascally Wabbits\n",
    "Problem\n",
    "A sequence is an ordered collection of objects (usually numbers), which are allowed to repeat. Sequences can be finite or infinite. Two examples are the finite sequence (π,−2–√,0,π)\n",
    " and the infinite sequence of odd numbers (1,3,5,7,9,…)\n",
    ". We use the notation an\n",
    " to represent the n\n",
    "-th term of a sequence.\n",
    "\n",
    "A recurrence relation is a way of defining the terms of a sequence with respect to the values of previous terms. In the case of Fibonacci's rabbits from the introduction, any given month will contain the rabbits that were alive the previous month, plus any new offspring. A key observation is that the number of offspring in any month is equal to the number of rabbits that were alive two months prior. As a result, if Fn\n",
    " represents the number of rabbit pairs alive after the n\n",
    "-th month, then we obtain the Fibonacci sequence having terms Fn\n",
    " that are defined by the recurrence relation Fn=Fn−1+Fn−2\n",
    " (with F1=F2=1\n",
    " to initiate the sequence). Although the sequence bears Fibonacci's name, it was known to Indian mathematicians over two millennia ago.\n",
    "\n",
    "When finding the n\n",
    "-th term of a sequence defined by a recurrence relation, we can simply use the recurrence relation to generate terms for progressively larger values of n\n",
    ". This problem introduces us to the computational technique of dynamic programming, which successively builds up solutions by using the answers to smaller cases.\n",
    "\n",
    "Given: Positive integers n≤40\n",
    " and k≤5\n",
    ".\n",
    "\n",
    "Return: The total number of rabbit pairs that will be present after n\n",
    " months, if we begin with 1 pair and in each generation, every pair of reproduction-age rabbits produces a litter of k\n",
    " rabbit pairs (instead of only 1 pair).\n",
    "\n",
    "Sample Dataset\n",
    "5 3\n",
    "Sample Output\n",
    "19"
   ]
  },
  {
   "cell_type": "code",
   "execution_count": 5,
   "id": "54a6aa21",
   "metadata": {},
   "outputs": [
    {
     "name": "stdout",
     "output_type": "stream",
     "text": [
      "7334743797805\n"
     ]
    }
   ],
   "source": [
    "def rabbitFib(n, k):\n",
    "    dpArray = [0, 1]\n",
    "    \n",
    "    for i in range(2, n + 1):\n",
    "        dpArray.append(dpArray[i-1] + ((dpArray[i-2])*k))\n",
    "    \n",
    "    return dpArray\n",
    "\n",
    "months = 33\n",
    "pairs = 4\n",
    "\n",
    "rabbitFib = rabbitFib(months, pairs)\n",
    "print(rabbitFib[months])"
   ]
  },
  {
   "cell_type": "code",
   "execution_count": 3,
   "id": "869b32af",
   "metadata": {},
   "outputs": [],
   "source": [
    "# Time complexity: O(N)"
   ]
  },
  {
   "cell_type": "code",
   "execution_count": 4,
   "id": "f2fa910d",
   "metadata": {},
   "outputs": [
    {
     "ename": "UnboundLocalError",
     "evalue": "cannot access local variable 'parent' where it is not associated with a value",
     "output_type": "error",
     "traceback": [
      "\u001b[1;31m---------------------------------------------------------------------------\u001b[0m",
      "\u001b[1;31mUnboundLocalError\u001b[0m                         Traceback (most recent call last)",
      "Cell \u001b[1;32mIn[4], line 8\u001b[0m\n\u001b[0;32m      4\u001b[0m         child, parent \u001b[38;5;241m=\u001b[39m parent, parent \u001b[38;5;241m+\u001b[39m (child \u001b[38;5;241m*\u001b[39m offsprings)\n\u001b[0;32m      5\u001b[0m     \u001b[38;5;28;01mreturn\u001b[39;00m child\n\u001b[1;32m----> 8\u001b[0m \u001b[38;5;28mprint\u001b[39m(Fibonacci_Loop_Pythonic(\u001b[38;5;241m6\u001b[39m, \u001b[38;5;241m3\u001b[39m))\n",
      "Cell \u001b[1;32mIn[4], line 4\u001b[0m, in \u001b[0;36mFibonacci_Loop_Pythonic\u001b[1;34m(months, offsprings)\u001b[0m\n\u001b[0;32m      2\u001b[0m parent_child \u001b[38;5;241m=\u001b[39m \u001b[38;5;241m1\u001b[39m, \u001b[38;5;241m1\u001b[39m\n\u001b[0;32m      3\u001b[0m \u001b[38;5;28;01mfor\u001b[39;00m itr \u001b[38;5;129;01min\u001b[39;00m \u001b[38;5;28mrange\u001b[39m(months \u001b[38;5;241m-\u001b[39m \u001b[38;5;241m1\u001b[39m):\n\u001b[1;32m----> 4\u001b[0m     child, parent \u001b[38;5;241m=\u001b[39m parent, parent \u001b[38;5;241m+\u001b[39m (child \u001b[38;5;241m*\u001b[39m offsprings)\n\u001b[0;32m      5\u001b[0m \u001b[38;5;28;01mreturn\u001b[39;00m child\n",
      "\u001b[1;31mUnboundLocalError\u001b[0m: cannot access local variable 'parent' where it is not associated with a value"
     ]
    }
   ],
   "source": [
    "def rabbitFib(n, k):\n",
    "    dpArray = [0, 1]\n",
    "    \n",
    "    for i in range(2, n + 1):\n",
    "        dpArray.append(dpArray[i-1] + ((dpArray[i-2])*k))\n",
    "    \n",
    "    return dpArray\n",
    "\n",
    "months = 5\n",
    "pairs = 3\n",
    "\n",
    "rabbitFib = rabbitFib(months, pairs)\n",
    "print(rabbitFib[months])\n",
    "        \n",
    "    "
   ]
  },
  {
   "cell_type": "code",
   "execution_count": null,
   "id": "7cf3f2bb",
   "metadata": {},
   "outputs": [],
   "source": []
  },
  {
   "cell_type": "code",
   "execution_count": null,
   "id": "e64de7b6",
   "metadata": {},
   "outputs": [],
   "source": []
  },
  {
   "cell_type": "code",
   "execution_count": null,
   "id": "d74c3676",
   "metadata": {},
   "outputs": [],
   "source": []
  },
  {
   "cell_type": "code",
   "execution_count": null,
   "id": "20f03741",
   "metadata": {},
   "outputs": [],
   "source": []
  },
  {
   "cell_type": "code",
   "execution_count": null,
   "id": "cf3dbf7f",
   "metadata": {},
   "outputs": [],
   "source": []
  }
 ],
 "metadata": {
  "kernelspec": {
   "display_name": "Python 3 (ipykernel)",
   "language": "python",
   "name": "python3"
  },
  "language_info": {
   "codemirror_mode": {
    "name": "ipython",
    "version": 3
   },
   "file_extension": ".py",
   "mimetype": "text/x-python",
   "name": "python",
   "nbconvert_exporter": "python",
   "pygments_lexer": "ipython3",
   "version": "3.11.7"
  }
 },
 "nbformat": 4,
 "nbformat_minor": 5
}
